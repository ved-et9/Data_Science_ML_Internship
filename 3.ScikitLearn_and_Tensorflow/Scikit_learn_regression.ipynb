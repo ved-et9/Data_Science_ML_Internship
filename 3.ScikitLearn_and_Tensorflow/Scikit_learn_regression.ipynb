{
  "nbformat": 4,
  "nbformat_minor": 0,
  "metadata": {
    "colab": {
      "provenance": []
    },
    "kernelspec": {
      "name": "python3",
      "display_name": "Python 3"
    },
    "language_info": {
      "name": "python"
    }
  },
  "cells": [
    {
      "cell_type": "markdown",
      "source": [
        "#Importing Libraries"
      ],
      "metadata": {
        "id": "ANH8eINx0bvY"
      }
    },
    {
      "cell_type": "code",
      "source": [
        "import numpy as np\n",
        "import pandas as pd\n",
        "from sklearn.model_selection import train_test_split\n"
      ],
      "metadata": {
        "id": "PlRXS44M0hgP"
      },
      "execution_count": null,
      "outputs": []
    },
    {
      "cell_type": "markdown",
      "source": [
        "#Generating Data for Splitting"
      ],
      "metadata": {
        "id": "-hp7-Q_A0h8A"
      }
    },
    {
      "cell_type": "code",
      "source": [
        "array_a=np.arange(1,101)\n",
        "array_a"
      ],
      "metadata": {
        "colab": {
          "base_uri": "https://localhost:8080/"
        },
        "id": "9wMfnEM60nzs",
        "outputId": "0846ecd0-27a8-4bbb-e3bb-1f926cea9947"
      },
      "execution_count": null,
      "outputs": [
        {
          "output_type": "execute_result",
          "data": {
            "text/plain": [
              "array([  1,   2,   3,   4,   5,   6,   7,   8,   9,  10,  11,  12,  13,\n",
              "        14,  15,  16,  17,  18,  19,  20,  21,  22,  23,  24,  25,  26,\n",
              "        27,  28,  29,  30,  31,  32,  33,  34,  35,  36,  37,  38,  39,\n",
              "        40,  41,  42,  43,  44,  45,  46,  47,  48,  49,  50,  51,  52,\n",
              "        53,  54,  55,  56,  57,  58,  59,  60,  61,  62,  63,  64,  65,\n",
              "        66,  67,  68,  69,  70,  71,  72,  73,  74,  75,  76,  77,  78,\n",
              "        79,  80,  81,  82,  83,  84,  85,  86,  87,  88,  89,  90,  91,\n",
              "        92,  93,  94,  95,  96,  97,  98,  99, 100])"
            ]
          },
          "metadata": {},
          "execution_count": 4
        }
      ]
    },
    {
      "cell_type": "code",
      "source": [
        "array_b=np.arange(301,401)\n",
        "array_b"
      ],
      "metadata": {
        "colab": {
          "base_uri": "https://localhost:8080/"
        },
        "id": "ZvWUewid0n35",
        "outputId": "2b31796f-c3a6-42fd-8dea-a4284ba308f5"
      },
      "execution_count": null,
      "outputs": [
        {
          "output_type": "execute_result",
          "data": {
            "text/plain": [
              "array([301, 302, 303, 304, 305, 306, 307, 308, 309, 310, 311, 312, 313,\n",
              "       314, 315, 316, 317, 318, 319, 320, 321, 322, 323, 324, 325, 326,\n",
              "       327, 328, 329, 330, 331, 332, 333, 334, 335, 336, 337, 338, 339,\n",
              "       340, 341, 342, 343, 344, 345, 346, 347, 348, 349, 350, 351, 352,\n",
              "       353, 354, 355, 356, 357, 358, 359, 360, 361, 362, 363, 364, 365,\n",
              "       366, 367, 368, 369, 370, 371, 372, 373, 374, 375, 376, 377, 378,\n",
              "       379, 380, 381, 382, 383, 384, 385, 386, 387, 388, 389, 390, 391,\n",
              "       392, 393, 394, 395, 396, 397, 398, 399, 400])"
            ]
          },
          "metadata": {},
          "execution_count": 5
        }
      ]
    },
    {
      "cell_type": "code",
      "source": [],
      "metadata": {
        "id": "HmB2dL_G0n7i"
      },
      "execution_count": null,
      "outputs": []
    },
    {
      "cell_type": "markdown",
      "source": [
        "#Split the Data"
      ],
      "metadata": {
        "id": "A9G1IqjX0odk"
      }
    },
    {
      "cell_type": "code",
      "source": [
        "array_a_train,array_a_test=train_test_split(array_a)"
      ],
      "metadata": {
        "id": "lPOVMXs20tX0"
      },
      "execution_count": null,
      "outputs": []
    },
    {
      "cell_type": "code",
      "source": [
        "array_a_train.shape,array_a_test.shape"
      ],
      "metadata": {
        "colab": {
          "base_uri": "https://localhost:8080/"
        },
        "id": "Iy-XCHeI0tbV",
        "outputId": "134235af-75d8-4dba-b1a9-99ae161f1f94"
      },
      "execution_count": null,
      "outputs": [
        {
          "output_type": "execute_result",
          "data": {
            "text/plain": [
              "((75,), (25,))"
            ]
          },
          "metadata": {},
          "execution_count": 13
        }
      ]
    },
    {
      "cell_type": "code",
      "source": [
        "array_a_train,array_a_test=train_test_split(array_a,test_size=0.2)"
      ],
      "metadata": {
        "id": "w51FBl3W1p2r"
      },
      "execution_count": null,
      "outputs": []
    },
    {
      "cell_type": "code",
      "source": [],
      "metadata": {
        "id": "QAmgaW4s2cua"
      },
      "execution_count": null,
      "outputs": []
    },
    {
      "cell_type": "code",
      "source": [
        "array_a_train.shape,array_a_test.shape"
      ],
      "metadata": {
        "colab": {
          "base_uri": "https://localhost:8080/"
        },
        "id": "yUeKIhvi1p5I",
        "outputId": "4b2cd71c-63b5-4239-85c0-90d8f890d9e6"
      },
      "execution_count": null,
      "outputs": [
        {
          "output_type": "execute_result",
          "data": {
            "text/plain": [
              "((80,), (20,))"
            ]
          },
          "metadata": {},
          "execution_count": 15
        }
      ]
    },
    {
      "cell_type": "code",
      "source": [
        "array_a_train"
      ],
      "metadata": {
        "colab": {
          "base_uri": "https://localhost:8080/"
        },
        "id": "KqfKyNGE2KJY",
        "outputId": "f9fe430e-fcfc-4e08-c755-ca0e1fe633b5"
      },
      "execution_count": null,
      "outputs": [
        {
          "output_type": "execute_result",
          "data": {
            "text/plain": [
              "array([89, 30,  4, 60, 91, 67, 66, 80, 13, 47, 86, 37, 92, 27, 65, 31, 99,\n",
              "       98, 96, 59, 17, 94, 74, 49, 71, 54, 56, 61, 25, 35, 53, 72, 75, 58,\n",
              "       68, 64, 23, 90, 62, 20, 97, 50, 48, 42, 87, 93, 45,  2, 77, 40, 38,\n",
              "       84, 32, 51,  7, 95, 88, 14, 33, 83, 55, 15, 22, 79, 29, 12, 43,  9,\n",
              "       78, 81, 44, 52, 82, 16, 21,  8, 34, 46, 57, 41])"
            ]
          },
          "metadata": {},
          "execution_count": 16
        }
      ]
    },
    {
      "cell_type": "code",
      "source": [
        "array_a_train,array_a_test=train_test_split(array_a,test_size=0.2,shuffle=False)\n",
        "array_a_train"
      ],
      "metadata": {
        "colab": {
          "base_uri": "https://localhost:8080/"
        },
        "id": "pJVJoTCH1p8o",
        "outputId": "24ae2fed-1208-4bf6-d138-07423d73467f"
      },
      "execution_count": null,
      "outputs": [
        {
          "output_type": "execute_result",
          "data": {
            "text/plain": [
              "array([ 1,  2,  3,  4,  5,  6,  7,  8,  9, 10, 11, 12, 13, 14, 15, 16, 17,\n",
              "       18, 19, 20, 21, 22, 23, 24, 25, 26, 27, 28, 29, 30, 31, 32, 33, 34,\n",
              "       35, 36, 37, 38, 39, 40, 41, 42, 43, 44, 45, 46, 47, 48, 49, 50, 51,\n",
              "       52, 53, 54, 55, 56, 57, 58, 59, 60, 61, 62, 63, 64, 65, 66, 67, 68,\n",
              "       69, 70, 71, 72, 73, 74, 75, 76, 77, 78, 79, 80])"
            ]
          },
          "metadata": {},
          "execution_count": 18
        }
      ]
    },
    {
      "cell_type": "code",
      "source": [
        "array_a_train,array_a_test=train_test_split(array_a,test_size=0.2,random_state=42)\n",
        "array_a_train"
      ],
      "metadata": {
        "colab": {
          "base_uri": "https://localhost:8080/"
        },
        "id": "lJollV8K2dXi",
        "outputId": "ddb0695d-019c-4fe9-b3cc-68dc86a0c203"
      },
      "execution_count": null,
      "outputs": [
        {
          "output_type": "execute_result",
          "data": {
            "text/plain": [
              "array([ 56,  89,  27,  43,  70,  16,  41,  97,  10,  73,  12,  48,  86,\n",
              "        29,  94,   6,  67,  66,  36,  17,  50,  35,   8,  96,  28,  20,\n",
              "        82,  26,  63,  14,  25,   4,  18,  39,   9,  79,   7,  65,  37,\n",
              "        90,  57, 100,  55,  44,  51,  68,  47,  69,  62,  98,  80,  42,\n",
              "        59,  49,  99,  58,  76,  33,  95,  60,  64,  85,  38,  30,   2,\n",
              "        53,  22,   3,  24,  88,  92,  75,  87,  83,  21,  61,  72,  15,\n",
              "        93,  52])"
            ]
          },
          "metadata": {},
          "execution_count": 26
        }
      ]
    },
    {
      "cell_type": "code",
      "source": [
        "array_a_train,array_a_test,b_train,b_test=train_test_split(array_a,array_b,test_size=0.2)"
      ],
      "metadata": {
        "id": "TnnEE1FO266P"
      },
      "execution_count": null,
      "outputs": []
    },
    {
      "cell_type": "code",
      "source": [
        "b_train"
      ],
      "metadata": {
        "colab": {
          "base_uri": "https://localhost:8080/"
        },
        "id": "EpXPr0SP3W1b",
        "outputId": "fdd32250-99f1-4f38-d017-2f189eff1c39"
      },
      "execution_count": null,
      "outputs": [
        {
          "output_type": "execute_result",
          "data": {
            "text/plain": [
              "array([321, 309, 323, 328, 350, 385, 384, 390, 349, 370, 348, 329, 376,\n",
              "       308, 352, 336, 375, 320, 341, 363, 332, 340, 400, 388, 374, 315,\n",
              "       368, 342, 369, 314, 316, 380, 354, 305, 306, 325, 312, 399, 335,\n",
              "       396, 397, 381, 339, 331, 344, 346, 387, 343, 347, 386, 324, 338,\n",
              "       337, 322, 382, 373, 361, 355, 319, 327, 366, 371, 302, 334, 360,\n",
              "       310, 398, 383, 330, 357, 307, 393, 345, 317, 372, 359, 391, 303,\n",
              "       333, 367])"
            ]
          },
          "metadata": {},
          "execution_count": 28
        }
      ]
    },
    {
      "cell_type": "code",
      "source": [
        "b_test"
      ],
      "metadata": {
        "id": "Q-8CYpUZ3Yab",
        "outputId": "f101608f-6a48-41f9-93de-24a170b674b7",
        "colab": {
          "base_uri": "https://localhost:8080/"
        }
      },
      "execution_count": null,
      "outputs": [
        {
          "output_type": "execute_result",
          "data": {
            "text/plain": [
              "array([379, 326, 313, 364, 304, 311, 378, 389, 392, 318, 395, 365, 358,\n",
              "       301, 394, 351, 362, 377, 356, 353])"
            ]
          },
          "metadata": {},
          "execution_count": 29
        }
      ]
    }
  ]
}
